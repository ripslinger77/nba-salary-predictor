{
 "cells": [
  {
   "cell_type": "code",
   "execution_count": null,
   "id": "fbe0efbc",
   "metadata": {},
   "outputs": [],
   "source": [
    "import pandas as pd\n",
    "\n",
    "# Replace with your actual CSV file path\n",
    "csv_file_path = \"nba_salaries.csv\"\n",
    "\n",
    "# Load the data\n",
    "df = pd.read_csv(csv_file_path)\n",
    "\n",
    "# Calculate Linear PER using the formula\n",
    "df[\"Linear_PER\"] = (\n",
    "    85.910 * df[\"FG\"]\n",
    "    + 53.897 * df[\"STL\"]\n",
    "    + 51.757 * df[\"3P\"]\n",
    "    + 46.845 * df[\"FT\"]\n",
    "    + 39.190 * df[\"BLK\"]\n",
    "    + 39.190 * df[\"ORB\"]\n",
    "    + 34.677 * df[\"AST\"]\n",
    "    + 14.707 * df[\"DRB\"]\n",
    "    - 17.174 * df[\"PF\"]\n",
    "    - 20.091 * (df[\"FTA\"] - df[\"FT\"])\n",
    "    - 39.190 * (df[\"FGA\"] - df[\"FG\"])\n",
    "    - 53.897 * df[\"TOV\"]\n",
    ")\n",
    "\n",
    "# Save the updated DataFrame to a new CSV\n",
    "# df.to_csv(\"nba_salaries_2.csv\", index=False)"
   ]
  }
 ],
 "metadata": {
  "kernelspec": {
   "display_name": "nba-env",
   "language": "python",
   "name": "python3"
  },
  "language_info": {
   "codemirror_mode": {
    "name": "ipython",
    "version": 3
   },
   "file_extension": ".py",
   "mimetype": "text/x-python",
   "name": "python",
   "nbconvert_exporter": "python",
   "pygments_lexer": "ipython3",
   "version": "3.10.11"
  }
 },
 "nbformat": 4,
 "nbformat_minor": 5
}
